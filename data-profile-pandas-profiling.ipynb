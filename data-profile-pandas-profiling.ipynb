{
 "cells": [
  {
   "cell_type": "markdown",
   "metadata": {},
   "source": [
    "# Summarizing a Dataset with Pandas-Profiling\n",
    "This notebook uses the pandas-profiling library to generate data profiles and summaries from a pandas data frame.  \n",
    "These examples were generated based on pandas-profiling version 2.8.0.\n",
    "\n",
    "**Examples:**\n",
    "* **Display in the notebook** (widget & HTML formats)\n",
    "* **Save as a file** (HTML & JSON formats)\n",
    "* **Assign to a string** (HTML & JSON formats)\n",
    "\n",
    "**Resources:**   \n",
    "https://www.linkedin.com/pulse/summarizing-exploring-datasets-using-jupyter-notebooks-joseph-true  \n",
    "https://pandas-profiling.github.io/pandas-profiling/  \n",
    "https://pandas-profiling.github.io/pandas-profiling/docs/master/index.html\n"
   ]
  },
  {
   "cell_type": "code",
   "execution_count": null,
   "metadata": {},
   "outputs": [],
   "source": [
    "import pandas as pd\n",
    "import numpy as np\n",
    "from pandas_profiling import ProfileReport"
   ]
  },
  {
   "cell_type": "markdown",
   "metadata": {},
   "source": [
    "# Load Data into a Data Frame"
   ]
  },
  {
   "cell_type": "code",
   "execution_count": null,
   "metadata": {},
   "outputs": [],
   "source": [
    "# Get some data\n",
    "df = pd.read_csv('auto-mpg-data.csv')"
   ]
  },
  {
   "cell_type": "markdown",
   "metadata": {},
   "source": [
    "# Generate the Pandas-Profiling Report"
   ]
  },
  {
   "cell_type": "code",
   "execution_count": null,
   "metadata": {},
   "outputs": [],
   "source": [
    "# Run standrd profile report\n",
    "profile = ProfileReport(df, title=\"Pandas Profiling Report\")"
   ]
  },
  {
   "cell_type": "markdown",
   "metadata": {},
   "source": [
    "# Display in the Notebook"
   ]
  },
  {
   "cell_type": "code",
   "execution_count": null,
   "metadata": {},
   "outputs": [],
   "source": [
    "# Display the notebook 'widget' version of the report\n",
    "profile.to_widgets()"
   ]
  },
  {
   "cell_type": "code",
   "execution_count": null,
   "metadata": {
    "scrolled": true
   },
   "outputs": [],
   "source": [
    "# Display the HTML version of the report\n",
    "profile.to_notebook_iframe()"
   ]
  },
  {
   "cell_type": "markdown",
   "metadata": {},
   "source": [
    "# Save to a File"
   ]
  },
  {
   "cell_type": "code",
   "execution_count": null,
   "metadata": {},
   "outputs": [],
   "source": [
    "# Save as HTML file\n",
    "profile.to_file(\"my_report.html\")"
   ]
  },
  {
   "cell_type": "code",
   "execution_count": null,
   "metadata": {},
   "outputs": [],
   "source": [
    "# Save as JSON file\n",
    "profile.to_file(\"my_report.json\")"
   ]
  },
  {
   "cell_type": "markdown",
   "metadata": {},
   "source": [
    "# Assign to a Local String Variable"
   ]
  },
  {
   "cell_type": "code",
   "execution_count": null,
   "metadata": {},
   "outputs": [],
   "source": [
    "# HTML string\n",
    "html_data = profile.to_html()\n",
    "html_data"
   ]
  },
  {
   "cell_type": "code",
   "execution_count": null,
   "metadata": {},
   "outputs": [],
   "source": [
    "# JSON string\n",
    "json_data = profile.to_json()\n",
    "json_data"
   ]
  },
  {
   "cell_type": "markdown",
   "metadata": {},
   "source": [
    "# Advanced Configuration"
   ]
  },
  {
   "cell_type": "code",
   "execution_count": null,
   "metadata": {},
   "outputs": [],
   "source": [
    "# Run Pandas Data Profile Report with specific options\n",
    "# This example enables sets a custom title, only one correlation chart and sets the sample preview size to 3 rows\n",
    "#\n",
    "# Advanced Configuration:\n",
    "# https://pandas-profiling.github.io/pandas-profiling/docs/master/rtd/pages/advanced_usage.html\n",
    "# https://github.com/pandas-profiling/pandas-profiling/blob/master/src/pandas_profiling/config_default.yaml\n",
    "    \n",
    "adv_profile = ProfileReport(df, title=\"My Custom Pandas Profiling Report\",\n",
    "                  \n",
    "    missing_diagrams={\n",
    "        \"bar\": True,\n",
    "        \"matrix\": False,\n",
    "        \"heatmap\": False,\n",
    "        \"dendrogram\": False                    \n",
    "    },\n",
    "\n",
    "    correlations={\n",
    "        \"pearson\":{\n",
    "            \"calculate\": True,\n",
    "            \"warn_high_correlations\": True,\n",
    "            \"threshold\": 0.9\n",
    "        } ,\n",
    "        \"spearman\":{\n",
    "            \"calculate\": False,\n",
    "            \"warn_high_correlations\": False},\n",
    "        \"kendall\":{\n",
    "            \"calculate\": False,\n",
    "            \"warn_high_correlations\": False},\n",
    "        \"phi_k\":{\n",
    "            \"calculate\": False,\n",
    "            \"warn_high_correlations\": False},\n",
    "        \"cramers\":{\n",
    "            \"calculate\": False,\n",
    "            \"warn_high_correlations\": True,\n",
    "            \"threshold\": 0.9},\n",
    "        \"recoded\":{\n",
    "            \"calculate\": False,\n",
    "            \"warn_high_correlations\": True,\n",
    "            \"threshold\": 1.0}\n",
    "    },\n",
    "\n",
    "    samples={\n",
    "        \"head\": 3,\n",
    "        \"tail\": 3 \n",
    "    }\n",
    ")\n"
   ]
  },
  {
   "cell_type": "code",
   "execution_count": null,
   "metadata": {},
   "outputs": [],
   "source": [
    "adv_profile.to_notebook_iframe()"
   ]
  },
  {
   "cell_type": "code",
   "execution_count": null,
   "metadata": {},
   "outputs": [],
   "source": []
  }
 ],
 "metadata": {
  "kernelspec": {
   "display_name": "Python 3",
   "language": "python",
   "name": "python3"
  },
  "language_info": {
   "codemirror_mode": {
    "name": "ipython",
    "version": 3
   },
   "file_extension": ".py",
   "mimetype": "text/x-python",
   "name": "python",
   "nbconvert_exporter": "python",
   "pygments_lexer": "ipython3",
   "version": "3.7.6"
  }
 },
 "nbformat": 4,
 "nbformat_minor": 2
}
